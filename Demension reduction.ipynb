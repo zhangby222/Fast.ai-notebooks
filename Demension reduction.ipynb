''' Using Spearman's dendrogram to show if there are two variables are of the same effect. Closer the variables are in the end nodes, 
higher the correlation they have. 
Spearman's R square: use rank instead of level of data. This avoids the problem with quadratic pattern. 
'''

